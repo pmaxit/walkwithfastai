{
 "cells": [
  {
   "cell_type": "code",
   "execution_count": null,
   "metadata": {},
   "outputs": [],
   "source": [
    "#| hide\n",
    "from walkwithfastai.core import *"
   ]
  },
  {
   "cell_type": "markdown",
   "metadata": {},
   "source": [
    "URL: https://pmaxit.github.io/walkwithfastai/"
   ]
  },
  {
   "attachments": {},
   "cell_type": "markdown",
   "metadata": {},
   "source": [
    "# walkwithfastai\n",
    "\n",
    "> FastAI experiments"
   ]
  },
  {
   "attachments": {},
   "cell_type": "markdown",
   "metadata": {},
   "source": [
    "This file will become your README and also the index of your documentation."
   ]
  },
  {
   "attachments": {},
   "cell_type": "markdown",
   "metadata": {},
   "source": [
    "## Developer Guide"
   ]
  },
  {
   "attachments": {},
   "cell_type": "markdown",
   "metadata": {},
   "source": [
    "If you are new to using `nbdev` here are some useful pointers to get you started."
   ]
  },
  {
   "attachments": {},
   "cell_type": "markdown",
   "metadata": {},
   "source": [
    "### Setup"
   ]
  },
  {
   "attachments": {},
   "cell_type": "markdown",
   "metadata": {},
   "source": [
    "It can be helpful to have a dedicated environment for development. Here we are assuming that you have an conda environment file called `env.yml` named after `walkwithfastai` i.e.:\n",
    "\n",
    "```yaml\n",
    "# env.yml\n",
    "name: walkwithfastai\n",
    "\n",
    "channels:\n",
    "  - fastai\n",
    "\n",
    "dependencies:\n",
    "  - fastai::nbdev>=2.3.12\n",
    "# - python>=3.11  # specify python version if required \n",
    "# - dependency 1\n",
    "# - dependency 2\n",
    "# - pip\n",
    "# pip:\n",
    "#   - pip dependency 1\n",
    "#   - pip dependency 2\n",
    "```"
   ]
  },
  {
   "attachments": {},
   "cell_type": "markdown",
   "metadata": {},
   "source": [
    "You can then use `conda` or `mamba` (faster at resolving) to create and update your environment file should your needs change as you work on `walkwithfastai`"
   ]
  },
  {
   "attachments": {},
   "cell_type": "markdown",
   "metadata": {},
   "source": [
    "```sh\n",
    "# create a conda environment for working on walkwithfastai\n",
    "$ mamba env create -f env.yml\n",
    "\n",
    "# update conda environment\n",
    "$ mamba env update -n walkwithfastai --file env.yml\n",
    "```"
   ]
  },
  {
   "attachments": {},
   "cell_type": "markdown",
   "metadata": {},
   "source": [
    "### Install walkwithfastai in Development mode"
   ]
  },
  {
   "attachments": {},
   "cell_type": "markdown",
   "metadata": {},
   "source": [
    "```sh\n",
    "# activate conda environment\n",
    "$ conda activate walkwithfastai\n",
    "\n",
    "# make sure walkwithfastai package is installed in development mode\n",
    "$ pip install -e .\n",
    "\n",
    "# make changes under nbs/ directory\n",
    "# ...\n",
    "\n",
    "# compile to have changes apply to walkwithfastai\n",
    "$ nbdev_prepare\n",
    "```"
   ]
  },
  {
   "attachments": {},
   "cell_type": "markdown",
   "metadata": {},
   "source": [
    "## Usage"
   ]
  },
  {
   "attachments": {},
   "cell_type": "markdown",
   "metadata": {},
   "source": [
    "### Installation"
   ]
  },
  {
   "attachments": {},
   "cell_type": "markdown",
   "metadata": {},
   "source": [
    "Install latest from the GitHub [repository][repo]:\n",
    "\n",
    "```sh\n",
    "$ pip install git+https://github.com/pmaxit/walkwithfastai.git\n",
    "```\n",
    "\n",
    "or from [conda][conda]\n",
    "\n",
    "```sh\n",
    "$ conda install -c pmaxit walkwithfastai\n",
    "```\n",
    "\n",
    "or from [pypi][pypi]\n",
    "\n",
    "\n",
    "```sh\n",
    "$ pip install walkwithfastai\n",
    "```\n",
    "\n",
    "\n",
    "[repo]: https://github.com/pmaxit/walkwithfastai\n",
    "[docs]: https://pmaxit.github.io/walkwithfastai/\n",
    "[pypi]: https://pypi.org/project/walkwithfastai/\n",
    "[conda]: https://anaconda.org/pmaxit/walkwithfastai"
   ]
  },
  {
   "attachments": {},
   "cell_type": "markdown",
   "metadata": {},
   "source": [
    "### Documentation"
   ]
  },
  {
   "attachments": {},
   "cell_type": "markdown",
   "metadata": {},
   "source": [
    "Documentation can be found hosted on this GitHub [repository][repo]'s [pages][docs]. Additionally you can find package manager specific guidelines on [conda][conda] and [pypi][pypi] respectively.\n",
    "\n",
    "[repo]: https://github.com/pmaxit/walkwithfastai\n",
    "[docs]: https://pmaxit.github.io/walkwithfastai/\n",
    "[pypi]: https://pypi.org/project/walkwithfastai/\n",
    "[conda]: https://anaconda.org/pmaxit/walkwithfastai"
   ]
  },
  {
   "attachments": {},
   "cell_type": "markdown",
   "metadata": {},
   "source": [
    "## How to use"
   ]
  },
  {
   "attachments": {},
   "cell_type": "markdown",
   "metadata": {},
   "source": [
    "Fill me in please! Don't forget code examples:"
   ]
  },
  {
   "cell_type": "code",
   "execution_count": null,
   "metadata": {},
   "outputs": [
    {
     "data": {
      "text/plain": [
       "2"
      ]
     },
     "execution_count": null,
     "metadata": {},
     "output_type": "execute_result"
    }
   ],
   "source": [
    "1+1"
   ]
  },
  {
   "cell_type": "code",
   "execution_count": null,
   "metadata": {},
   "outputs": [],
   "source": []
  }
 ],
 "metadata": {
  "kernelspec": {
   "display_name": "python3",
   "language": "python",
   "name": "python3"
  }
 },
 "nbformat": 4,
 "nbformat_minor": 4
}
